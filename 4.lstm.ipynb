{
 "cells": [
  {
   "cell_type": "markdown",
   "metadata": {
    "cell_id": 40
   },
   "source": [
    "### 加载数据集"
   ]
  },
  {
   "cell_type": "code",
   "execution_count": 2,
   "metadata": {},
   "outputs": [],
   "source": [
    "import random  \n",
    "  \n",
    "# 步骤1：读取txt文件  \n",
    "with open('fffd.csv', 'r', encoding='utf-8') as file:  \n",
    "    lines = file.readlines()  \n",
    "  \n",
    "# 步骤2：随机划分数据  \n",
    "train_ratio = 0.8  # 假设80%的数据作为训练集，剩下的20%作为测试集  \n",
    "train_size = int(len(lines) * train_ratio)  \n",
    "  \n",
    "# 打乱数据顺序  \n",
    "random.shuffle(lines)  \n",
    "  \n",
    "# 划分训练集和测试集  \n",
    "train_lines = lines[:train_size]  \n",
    "test_lines = lines[train_size:]  \n",
    "  \n",
    "# 步骤3：写入训练集和测试集  \n",
    "with open('train_data.txt', 'w', encoding='utf-8') as train_file:  \n",
    "    train_file.writelines(train_lines)  \n",
    "with open('test_data.txt', 'w', encoding='utf-8') as test_file:  \n",
    "    test_file.writelines(test_lines)"
   ]
  },
  {
   "cell_type": "code",
   "execution_count": 5,
   "metadata": {
    "cell_id": 1
   },
   "outputs": [],
   "source": [
    "from utils import load_corpus, stopwords\n",
    "\n",
    "TRAIN_PATH = \"C:/Users/86187/Desktop/train_data.txt\"\n",
    "TEST_PATH = \"C:/Users/86187/Desktop/test_data.txt\""
   ]
  },
  {
   "cell_type": "code",
   "execution_count": 6,
   "metadata": {
    "cell_id": 2
   },
   "outputs": [
    {
     "name": "stderr",
     "output_type": "stream",
     "text": [
      "Building prefix dict from the default dictionary ...\n",
      "Loading model from cache C:\\Users\\86187\\AppData\\Local\\Temp\\jieba.cache\n",
      "Loading model cost 0.750 seconds.\n",
      "Prefix dict has been built successfully.\n"
     ]
    }
   ],
   "source": [
    "# 分别加载训练集和测试集\n",
    "train_data = load_corpus(TRAIN_PATH)\n",
    "test_data = load_corpus(TEST_PATH)"
   ]
  },
  {
   "cell_type": "code",
   "execution_count": 7,
   "metadata": {
    "cell_id": 3
   },
   "outputs": [
    {
     "data": {
      "text/html": [
       "<div>\n",
       "<style scoped>\n",
       "    .dataframe tbody tr th:only-of-type {\n",
       "        vertical-align: middle;\n",
       "    }\n",
       "\n",
       "    .dataframe tbody tr th {\n",
       "        vertical-align: top;\n",
       "    }\n",
       "\n",
       "    .dataframe thead th {\n",
       "        text-align: right;\n",
       "    }\n",
       "</style>\n",
       "<table border=\"1\" class=\"dataframe\">\n",
       "  <thead>\n",
       "    <tr style=\"text-align: right;\">\n",
       "      <th></th>\n",
       "      <th>label</th>\n",
       "      <th>text</th>\n",
       "    </tr>\n",
       "  </thead>\n",
       "  <tbody>\n",
       "    <tr>\n",
       "      <th>0</th>\n",
       "      <td>1</td>\n",
       "      <td>酒店 位置 不错 就 在 市中心 从 火车站 坐 路 路到 体育场 下车 都 可以 到 路 ...</td>\n",
       "    </tr>\n",
       "    <tr>\n",
       "      <th>1</th>\n",
       "      <td>0</td>\n",
       "      <td>先生 在 入住 时 收银台 人员 竟然 可以 将 入住 刷卡 时 的 预 授权 元 当做 消...</td>\n",
       "    </tr>\n",
       "    <tr>\n",
       "      <th>2</th>\n",
       "      <td>1</td>\n",
       "      <td>最 物有所值 的 就是 海景房 的 无敌 海景 了 房间 一面 墙 的 玻璃窗 维多利亚 湾...</td>\n",
       "    </tr>\n",
       "    <tr>\n",
       "      <th>3</th>\n",
       "      <td>1</td>\n",
       "      <td>我们 入住 的 房间 是 三室一厅 住房 改造 的 有 两个 大床 和 一个 小 床 两个 ...</td>\n",
       "    </tr>\n",
       "    <tr>\n",
       "      <th>4</th>\n",
       "      <td>1</td>\n",
       "      <td>设施 不是 很 新 但 收拾 的 很 干净 让 人 放心 不慎 遗忘 的 价值 不菲 的 摄...</td>\n",
       "    </tr>\n",
       "  </tbody>\n",
       "</table>\n",
       "</div>"
      ],
      "text/plain": [
       "   label                                               text\n",
       "0      1  酒店 位置 不错 就 在 市中心 从 火车站 坐 路 路到 体育场 下车 都 可以 到 路 ...\n",
       "1      0  先生 在 入住 时 收银台 人员 竟然 可以 将 入住 刷卡 时 的 预 授权 元 当做 消...\n",
       "2      1  最 物有所值 的 就是 海景房 的 无敌 海景 了 房间 一面 墙 的 玻璃窗 维多利亚 湾...\n",
       "3      1  我们 入住 的 房间 是 三室一厅 住房 改造 的 有 两个 大床 和 一个 小 床 两个 ...\n",
       "4      1  设施 不是 很 新 但 收拾 的 很 干净 让 人 放心 不慎 遗忘 的 价值 不菲 的 摄..."
      ]
     },
     "execution_count": 7,
     "metadata": {},
     "output_type": "execute_result"
    }
   ],
   "source": [
    "import pandas as pd\n",
    "\n",
    "df_train = pd.DataFrame(train_data, columns=[\"label\",\"text\"])\n",
    "df_test = pd.DataFrame(test_data, columns=[\"label\",\"text\"])\n",
    "df_train.head()"
   ]
  },
  {
   "cell_type": "markdown",
   "metadata": {
    "cell_id": 42
   },
   "source": [
    "### 训练词向量"
   ]
  },
  {
   "cell_type": "code",
   "execution_count": 8,
   "metadata": {
    "cell_id": 44
   },
   "outputs": [
    {
     "data": {
      "text/plain": [
       "0    [酒店, 位置, 不错, 就, 在, 市中心, 从, 火车站, 坐, 路, 路到, 体育场,...\n",
       "1    [先生, 在, 入住, 时, 收银台, 人员, 竟然, 可以, 将, 入住, 刷卡, 时, ...\n",
       "2    [最, 物有所值, 的, 就是, 海景房, 的, 无敌, 海景, 了, 房间, 一面, 墙,...\n",
       "3    [我们, 入住, 的, 房间, 是, 三室一厅, 住房, 改造, 的, 有, 两个, 大床,...\n",
       "4    [设施, 不是, 很, 新, 但, 收拾, 的, 很, 干净, 让, 人, 放心, 不慎, ...\n",
       "Name: text, dtype: object"
      ]
     },
     "execution_count": 8,
     "metadata": {},
     "output_type": "execute_result"
    }
   ],
   "source": [
    "# word2vec要求的输入格式: list(word)\n",
    "wv_input = df_train['text'].map(lambda s: s.split(\" \"))   # [for w in s.split(\" \") if w not in stopwords]\n",
    "wv_input.head()                         "
   ]
  },
  {
   "cell_type": "code",
   "execution_count": 9,
   "metadata": {
    "cell_id": 4
   },
   "outputs": [],
   "source": [
    "from gensim import models\n",
    "\n",
    "# Word2Vec\n",
    "word2vec = models.Word2Vec(wv_input, \n",
    "                           vector_size=64,   # 词向量维度\n",
    "                           min_count=1,      # 最小词频, 因为数据量较小, 这里卡1\n",
    "                           epochs=1000)      # 迭代轮次"
   ]
  },
  {
   "cell_type": "markdown",
   "metadata": {
    "cell_id": 46
   },
   "source": [
    "查找近义词, 直观感受训练得到的word2vec效果"
   ]
  },
  {
   "cell_type": "code",
   "execution_count": 10,
   "metadata": {
    "cell_id": 5,
    "scrolled": false
   },
   "outputs": [
    {
     "data": {
      "text/plain": [
       "[('他们', 0.7040765285491943),\n",
       " ('她', 0.6553788781166077),\n",
       " ('我', 0.6452823877334595),\n",
       " ('谁', 0.6159219145774841),\n",
       " ('我们', 0.5943300127983093),\n",
       " ('他', 0.5721843242645264),\n",
       " ('她们', 0.5507878661155701),\n",
       " ('客人', 0.5468305945396423),\n",
       " ('自己', 0.516992449760437),\n",
       " ('你们', 0.5037610530853271)]"
      ]
     },
     "execution_count": 10,
     "metadata": {},
     "output_type": "execute_result"
    }
   ],
   "source": [
    "word2vec.wv.most_similar(\"你\")"
   ]
  },
  {
   "cell_type": "code",
   "execution_count": 11,
   "metadata": {
    "cell_id": 38
   },
   "outputs": [
    {
     "data": {
      "text/plain": [
       "[('在建设中', 0.4727029502391815),\n",
       " ('颇丰', 0.45496243238449097),\n",
       " ('补充', 0.43421047925949097),\n",
       " ('打保', 0.4317757189273834),\n",
       " ('姜汤', 0.4304389953613281),\n",
       " ('凑合着', 0.4294847548007965),\n",
       " ('兴许', 0.4172612726688385),\n",
       " ('代价', 0.4164358079433441),\n",
       " ('定位', 0.41608306765556335),\n",
       " ('不厚道', 0.4153534173965454)]"
      ]
     },
     "execution_count": 11,
     "metadata": {},
     "output_type": "execute_result"
    }
   ],
   "source": [
    "word2vec.wv.most_similar(\"哈哈\")"
   ]
  },
  {
   "cell_type": "code",
   "execution_count": 12,
   "metadata": {
    "cell_id": 39
   },
   "outputs": [
    {
     "data": {
      "text/plain": [
       "[('店名', 0.8456720113754272),\n",
       " ('国度', 0.5039215683937073),\n",
       " ('碰头', 0.488311767578125),\n",
       " ('守望相助', 0.48612791299819946),\n",
       " ('拥抱', 0.463371217250824),\n",
       " ('拾金不昧', 0.4600023627281189),\n",
       " ('浅', 0.45968103408813477),\n",
       " ('酒鬼', 0.45853573083877563),\n",
       " ('假山', 0.45827043056488037),\n",
       " ('和祥', 0.4516952633857727)]"
      ]
     },
     "execution_count": 12,
     "metadata": {},
     "output_type": "execute_result"
    }
   ],
   "source": [
    "word2vec.wv.most_similar(\"伤心\")"
   ]
  },
  {
   "cell_type": "markdown",
   "metadata": {
    "cell_id": 48
   },
   "source": [
    "### 神经网络"
   ]
  },
  {
   "cell_type": "code",
   "execution_count": 13,
   "metadata": {
    "cell_id": 14
   },
   "outputs": [],
   "source": [
    "import torch\n",
    "from torch import nn\n",
    "from torch.nn.utils.rnn import pad_sequence, pack_padded_sequence,pad_packed_sequence\n",
    "from torch.utils.data import Dataset, DataLoader\n",
    "\n",
    "device = \"cuda:0\" if torch.cuda.is_available() else \"cpu\""
   ]
  },
  {
   "cell_type": "code",
   "execution_count": 14,
   "metadata": {
    "cell_id": 19
   },
   "outputs": [],
   "source": [
    "# 超参数\n",
    "learning_rate = 5e-4\n",
    "input_size = 768\n",
    "num_epoches = 5\n",
    "batch_size = 100\n",
    "embed_size = 64\n",
    "hidden_size = 64\n",
    "num_layers = 2"
   ]
  },
  {
   "cell_type": "code",
   "execution_count": 15,
   "metadata": {
    "cell_id": 7
   },
   "outputs": [
    {
     "name": "stderr",
     "output_type": "stream",
     "text": [
      "C:\\Users\\86187\\AppData\\Local\\Temp\\ipykernel_30152\\3759298662.py:11: UserWarning: Creating a tensor from a list of numpy.ndarrays is extremely slow. Please consider converting the list to a single numpy.ndarray with numpy.array() before converting to a tensor. (Triggered internally at C:\\b\\abs_abjetg6_iu\\croot\\pytorch_1686932924616\\work\\torch\\csrc\\utils\\tensor_new.cpp:248.)\n",
      "  vectors = torch.Tensor(vectors)\n"
     ]
    }
   ],
   "source": [
    "# 数据集\n",
    "class MyDataset(Dataset):\n",
    "    def __init__(self, df):\n",
    "        self.data = []\n",
    "        self.label = df[\"label\"].tolist()\n",
    "        for s in df[\"text\"].tolist():\n",
    "            vectors = []\n",
    "            for w in s.split(\" \"):\n",
    "                if w in word2vec.wv.key_to_index:\n",
    "                    vectors.append(word2vec.wv[w])   # 将每个词替换为对应的词向量\n",
    "            vectors = torch.Tensor(vectors)\n",
    "            self.data.append(vectors)\n",
    "    \n",
    "    def __getitem__(self, index):\n",
    "        data = self.data[index]\n",
    "        label = self.label[index]\n",
    "        return data, label\n",
    "\n",
    "    def __len__(self):\n",
    "        return len(self.label)\n",
    "\n",
    "def collate_fn(data):\n",
    "    \"\"\"\n",
    "    :param data: 第0维:data,第1维:label\n",
    "    :return: 序列化的data、记录实际长度的序列、以及label列表\n",
    "    \"\"\"\n",
    "    data.sort(key=lambda x: len(x[0]), reverse=True) # pack_padded_sequence要求要按照序列的长度倒序排列\n",
    "    data_length = [len(sq[0]) for sq in data]\n",
    "    x = [i[0] for i in data]\n",
    "    y = [i[1] for i in data]\n",
    "    data = pad_sequence(x, batch_first=True, padding_value=0)   # 用RNN处理变长序列的必要操作\n",
    "    return data, torch.tensor(y, dtype=torch.float32), data_length\n",
    "\n",
    "\n",
    "# 训练集\n",
    "train_data = MyDataset(df_train)\n",
    "train_loader = DataLoader(train_data, batch_size=batch_size, collate_fn=collate_fn, shuffle=True)\n",
    "\n",
    "# 测试集\n",
    "test_data = MyDataset(df_test)\n",
    "test_loader = DataLoader(test_data, batch_size=batch_size, collate_fn=collate_fn, shuffle=True)"
   ]
  },
  {
   "cell_type": "code",
   "execution_count": 16,
   "metadata": {
    "cell_id": 11
   },
   "outputs": [],
   "source": [
    "# 网络结构\n",
    "class LSTM(nn.Module):\n",
    "    def __init__(self, input_size, hidden_size, num_layers):\n",
    "        super(LSTM, self).__init__()\n",
    "        self.hidden_size = hidden_size\n",
    "        #也可以在这里写嵌入层\n",
    "        self.num_layers = num_layers\n",
    "        self.lstm = nn.LSTM(input_size, hidden_size, num_layers, batch_first=True, bidirectional=True)\n",
    "        self.fc = nn.Linear(hidden_size * 2, 1)  # 双向, 输出维度要*2\n",
    "        self.sigmoid = nn.Sigmoid()\n",
    "\n",
    "    def forward(self, x, lengths):\n",
    "        h0 = torch.zeros(self.num_layers * 2, x.size(0), self.hidden_size).to(device)  # 双向, 第一个维度要*2\n",
    "        c0 = torch.zeros(self.num_layers * 2, x.size(0), self.hidden_size).to(device)\n",
    "        \n",
    "        packed_input = torch.nn.utils.rnn.pack_padded_sequence(input=x, lengths=lengths, batch_first=True)\n",
    "        packed_out, (h_n, h_c) = self.lstm(packed_input, (h0, c0))\n",
    "\n",
    "        lstm_out = torch.cat([h_n[-2], h_n[-1]], 1)  # 双向, 所以要将最后两维拼接, 得到的就是最后一个time step的输出\n",
    "        out = self.fc(lstm_out)\n",
    "        out = self.sigmoid(out)\n",
    "        return out\n",
    "\n",
    "lstm = LSTM(embed_size, hidden_size, num_layers)"
   ]
  },
  {
   "cell_type": "code",
   "execution_count": 17,
   "metadata": {
    "cell_id": 26
   },
   "outputs": [],
   "source": [
    "from sklearn import metrics\n",
    "\n",
    "# 在测试集效果检验\n",
    "def test():\n",
    "    y_pred, y_true = [], []\n",
    "\n",
    "    with torch.no_grad():\n",
    "        for x, labels, lengths in test_loader:\n",
    "            x = x.to(device)\n",
    "            outputs = lstm(x, lengths)          # 前向传播\n",
    "            outputs = outputs.view(-1)          # 将输出展平\n",
    "            y_pred.append(outputs)\n",
    "            y_true.append(labels)\n",
    "\n",
    "    y_prob = torch.cat(y_pred)\n",
    "    y_true = torch.cat(y_true)\n",
    "    y_pred = y_prob.clone()\n",
    "    y_pred[y_pred > 0.5] = 1\n",
    "    y_pred[y_pred <= 0.5] = 0\n",
    "    \n",
    "    print(metrics.classification_report(y_true, y_pred))\n",
    "    print(\"准确率:\", metrics.accuracy_score(y_true, y_pred))\n",
    "    print(\"AUC:\", metrics.roc_auc_score(y_true, y_prob) )"
   ]
  },
  {
   "cell_type": "code",
   "execution_count": 18,
   "metadata": {
    "cell_id": 32
   },
   "outputs": [],
   "source": [
    "# 定义损失函数和优化器\n",
    "criterion = nn.BCELoss()\n",
    "optimizer = torch.optim.Adam(lstm.parameters(), lr=learning_rate)"
   ]
  },
  {
   "cell_type": "code",
   "execution_count": 19,
   "metadata": {
    "cell_id": 33,
    "scrolled": true
   },
   "outputs": [
    {
     "name": "stdout",
     "output_type": "stream",
     "text": [
      "epoch:1, step:10, loss:0.6620612144470215\n",
      "epoch:1, step:20, loss:0.5901734232902527\n",
      "epoch:1, step:30, loss:0.5407171845436096\n",
      "epoch:1, step:40, loss:0.4989756643772125\n",
      "epoch:1, step:50, loss:0.428091824054718\n",
      "epoch:1, step:60, loss:0.38637247681617737\n",
      "              precision    recall  f1-score   support\n",
      "\n",
      "         0.0       0.76      0.74      0.75       497\n",
      "         1.0       0.88      0.89      0.89      1057\n",
      "\n",
      "    accuracy                           0.84      1554\n",
      "   macro avg       0.82      0.82      0.82      1554\n",
      "weighted avg       0.84      0.84      0.84      1554\n",
      "\n",
      "准确率: 0.8442728442728443\n",
      "AUC: 0.9085734844259503\n",
      "saved model:  C:/Users/86187/Desktop/lstm_1.model\n",
      "epoch:2, step:10, loss:0.35022228956222534\n",
      "epoch:2, step:20, loss:0.33124738931655884\n",
      "epoch:2, step:30, loss:0.34431472420692444\n",
      "epoch:2, step:40, loss:0.31771352887153625\n",
      "epoch:2, step:50, loss:0.3158053457736969\n",
      "epoch:2, step:60, loss:0.31223827600479126\n",
      "              precision    recall  f1-score   support\n",
      "\n",
      "         0.0       0.83      0.70      0.76       497\n",
      "         1.0       0.87      0.93      0.90      1057\n",
      "\n",
      "    accuracy                           0.86      1554\n",
      "   macro avg       0.85      0.82      0.83      1554\n",
      "weighted avg       0.86      0.86      0.86      1554\n",
      "\n",
      "准确率: 0.8603603603603603\n",
      "AUC: 0.9309556487458336\n",
      "saved model:  C:/Users/86187/Desktop/lstm_2.model\n",
      "epoch:3, step:10, loss:0.2936285138130188\n",
      "epoch:3, step:20, loss:0.26287639141082764\n",
      "epoch:3, step:30, loss:0.27515843510627747\n",
      "epoch:3, step:40, loss:0.2818225920200348\n",
      "epoch:3, step:50, loss:0.27818578481674194\n",
      "epoch:3, step:60, loss:0.2636493146419525\n",
      "              precision    recall  f1-score   support\n",
      "\n",
      "         0.0       0.80      0.79      0.80       497\n",
      "         1.0       0.90      0.91      0.91      1057\n",
      "\n",
      "    accuracy                           0.87      1554\n",
      "   macro avg       0.85      0.85      0.85      1554\n",
      "weighted avg       0.87      0.87      0.87      1554\n",
      "\n",
      "准确率: 0.8725868725868726\n",
      "AUC: 0.9406809827746041\n",
      "saved model:  C:/Users/86187/Desktop/lstm_3.model\n",
      "epoch:4, step:10, loss:0.2526654601097107\n",
      "epoch:4, step:20, loss:0.2186727523803711\n",
      "epoch:4, step:30, loss:0.27080708742141724\n",
      "epoch:4, step:40, loss:0.2352159470319748\n",
      "epoch:4, step:50, loss:0.24599376320838928\n",
      "epoch:4, step:60, loss:0.2677152752876282\n",
      "              precision    recall  f1-score   support\n",
      "\n",
      "         0.0       0.85      0.66      0.74       497\n",
      "         1.0       0.85      0.95      0.90      1057\n",
      "\n",
      "    accuracy                           0.85      1554\n",
      "   macro avg       0.85      0.80      0.82      1554\n",
      "weighted avg       0.85      0.85      0.85      1554\n",
      "\n",
      "准确率: 0.8532818532818532\n",
      "AUC: 0.9357259926636452\n",
      "saved model:  C:/Users/86187/Desktop/lstm_4.model\n",
      "epoch:5, step:10, loss:0.2354033887386322\n",
      "epoch:5, step:20, loss:0.26850152015686035\n",
      "epoch:5, step:30, loss:0.22506928443908691\n",
      "epoch:5, step:40, loss:0.21515318751335144\n",
      "epoch:5, step:50, loss:0.24160747230052948\n",
      "epoch:5, step:60, loss:0.21827085316181183\n",
      "              precision    recall  f1-score   support\n",
      "\n",
      "         0.0       0.77      0.88      0.82       497\n",
      "         1.0       0.94      0.88      0.91      1057\n",
      "\n",
      "    accuracy                           0.88      1554\n",
      "   macro avg       0.86      0.88      0.86      1554\n",
      "weighted avg       0.89      0.88      0.88      1554\n",
      "\n",
      "准确率: 0.8783783783783784\n",
      "AUC: 0.9483238123157107\n",
      "saved model:  C:/Users/86187/Desktop/lstm_5.model\n"
     ]
    }
   ],
   "source": [
    "# 迭代训练\n",
    "for epoch in range(num_epoches):\n",
    "    total_loss = 0\n",
    "    for i, (x, labels, lengths) in enumerate(train_loader):\n",
    "        x = x.to(device)\n",
    "        labels = labels.to(device)\n",
    "        outputs = lstm(x, lengths)          # 前向传播\n",
    "        logits = outputs.view(-1)           # 将输出展平\n",
    "        loss = criterion(logits, labels)    # loss计算\n",
    "        total_loss += loss\n",
    "        optimizer.zero_grad()               # 梯度清零\n",
    "        loss.backward(retain_graph=True)    # 反向传播，计算梯度\n",
    "        optimizer.step()                    # 梯度更新\n",
    "        if (i+1) % 10 == 0:\n",
    "            print(\"epoch:{}, step:{}, loss:{}\".format(epoch+1, i+1, total_loss/10))\n",
    "            total_loss = 0\n",
    "    \n",
    "    # test\n",
    "    test()\n",
    "    \n",
    "    # save model\n",
    "    model_path = \"C:/Users/86187/Desktop/lstm_{}.model\".format(epoch+1)\n",
    "    torch.save(lstm, model_path)\n",
    "    print(\"saved model: \", model_path)"
   ]
  },
  {
   "cell_type": "markdown",
   "metadata": {
    "cell_id": 36
   },
   "source": [
    "### 手动输入句子，判断情感倾向（1正/0负）"
   ]
  },
  {
   "cell_type": "code",
   "execution_count": 20,
   "metadata": {
    "cell_id": 51
   },
   "outputs": [],
   "source": [
    "net = torch.load(\"C:/Users/86187/Desktop/lstm_5.model\")    # 训练过程中的巅峰时刻"
   ]
  },
  {
   "cell_type": "code",
   "execution_count": 21,
   "metadata": {
    "cell_id": 52
   },
   "outputs": [
    {
     "data": {
      "text/plain": [
       "tensor([0.4664])"
      ]
     },
     "execution_count": 21,
     "metadata": {},
     "output_type": "execute_result"
    }
   ],
   "source": [
    "from utils import processing\n",
    "\n",
    "strs = [\"去你大爷的\"]\n",
    "\n",
    "data = []\n",
    "for s in strs:\n",
    "    vectors = []\n",
    "    for w in processing(s).split(\" \"):\n",
    "        if w in word2vec.wv.key_to_index:\n",
    "            vectors.append(word2vec.wv[w])   # 将每个词替换为对应的词向量\n",
    "    vectors = torch.Tensor(vectors)\n",
    "    data.append(vectors)\n",
    "x, _, lengths = collate_fn(list(zip(data, [-1] * len(strs))))\n",
    "with torch.no_grad():\n",
    "    x = x.to(device)\n",
    "    outputs = lstm(x, lengths)          # 前向传播\n",
    "    outputs = outputs.view(-1)          # 将输出展平\n",
    "outputs"
   ]
  },
  {
   "cell_type": "code",
   "execution_count": null,
   "metadata": {
    "cell_id": 54
   },
   "outputs": [],
   "source": []
  }
 ],
 "metadata": {
  "kernelspec": {
   "display_name": "Python 3",
   "language": "python",
   "name": "python3"
  },
  "language_info": {
   "codemirror_mode": {
    "name": "ipython",
    "version": 3
   },
   "file_extension": ".py",
   "mimetype": "text/x-python",
   "name": "python",
   "nbconvert_exporter": "python",
   "pygments_lexer": "ipython3",
   "version": "3.7.1"
  },
  "max_cell_id": 55
 },
 "nbformat": 4,
 "nbformat_minor": 5
}
